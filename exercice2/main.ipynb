{
 "cells": [
  {
   "cell_type": "code",
   "execution_count": 1,
   "metadata": {},
   "outputs": [
    {
     "name": "stdout",
     "output_type": "stream",
     "text": [
      "2.0800833702087402\n"
     ]
    }
   ],
   "source": [
    "# Task 1\n",
    "import numpy as np\n",
    "def halvering_solve(f, a,b, tol):\n",
    "   while(abs(a-b) > tol):\n",
    "      x = (a+b)/2.0\n",
    "      f_val = f(x)\n",
    "      fa = f(a)\n",
    "      if (np.sign(f_val)==np.sign(fa)):\n",
    "         a = x\n",
    "      else:\n",
    "        b = x\n",
    "   return (a+b)/2.0\n",
    "\n",
    "f = lambda x: x**3-9\n",
    "maks_feil = 10.0**(-6)\n",
    "x_sol = halvering_solve(f,2,3, maks_feil)\n",
    "print(x_sol)"
   ]
  },
  {
   "cell_type": "code",
   "execution_count": 4,
   "metadata": {},
   "outputs": [
    {
     "name": "stdout",
     "output_type": "stream",
     "text": [
      "[1.76929235740861, 1.672821704235825, 1.129980494458013]\n"
     ]
    }
   ],
   "source": [
    "# Task 2\n",
    "import numpy as np\n",
    "\n",
    "def fikspunkt_solve(f, x0,tol):\n",
    "   x = x0\n",
    "   while(abs(f(x)-x)>tol):\n",
    "      x = f(x)\n",
    "\n",
    "   return x\n",
    "\n",
    "f1 = lambda x: np.cbrt(2*x+2)\n",
    "f2 = lambda x: np.log(7-x)\n",
    "f3 = lambda x: np.log(4-np.sin(x))\n",
    "funcs = [f1,f2,f3]\n",
    "maks_feil = 10**(-8)\n",
    "sols = []\n",
    "for f in funcs:\n",
    "   x_sol = fikspunkt_solve(f,4.0,maks_feil)\n",
    "   sols.append(x_sol)\n",
    "print(sols)"
   ]
  },
  {
   "cell_type": "code",
   "execution_count": 5,
   "metadata": {},
   "outputs": [
    {
     "name": "stdout",
     "output_type": "stream",
     "text": [
      "2.0201073212543124\n"
     ]
    }
   ],
   "source": [
    "# Task 6\n",
    "import numpy as np\n",
    "\n",
    "f = lambda x: (10.0/3.0)*np.pi*x**2+(2.0/3.0)*np.pi*x**3-60.0\n",
    "df = lambda x: (20.0/3.0)*np.pi*x+2.0*np.pi*x**2\n",
    "newton = lambda r: r-f(r)/df(r)\n",
    "\n",
    "noyaktighet = 4\n",
    "maxfeil = 0.5*10**(-noyaktighet)\n",
    "r=1\n",
    "i=0\n",
    "while( not (df(r) == 0)):\n",
    "    newr = newton(r)\n",
    "    if (np.abs(newr-r) < maxfeil): break\n",
    "    r = newr\n",
    "radius = newr\n",
    "print(radius)"
   ]
  },
  {
   "cell_type": "code",
   "execution_count": 7,
   "metadata": {},
   "outputs": [
    {
     "name": "stdout",
     "output_type": "stream",
     "text": [
      "[[ 1.          2.         -1.        ]\n",
      " [ 0.          3.          1.        ]\n",
      " [ 0.          0.          4.66666667]] [2.         4.         4.66666667]\n"
     ]
    }
   ],
   "source": [
    "# Task 9\n",
    "import numpy as np\n",
    "def naive_gauss(A,b):\n",
    "   n,m = np.shape(A)\n",
    "   S = np.zeros((n,n+1))\n",
    "   S[:,0:n] = A\n",
    "   S[:,-1] = b\n",
    "   for j in range(n-1):\n",
    "      for i in range(j+1,n):\n",
    "         mult = S[i,j]/S[j,j]\n",
    "         S[i,j]=0.0\n",
    "         for k in range(j+1,n+1):\n",
    "            S[i,k] = S[i,k]-mult*S[j,k]\n",
    "\n",
    "   return S[:,0:n],S[:,-1]\n",
    "   \n",
    "A = np.array([ 1,2,-1,0,3,1,2,-1,1 ])\n",
    "A=A.reshape((3,3))\n",
    "b = np.array([2,4,2]).T\n",
    "Ar, br = naive_gauss(A,b)\n",
    "print(Ar,br)"
   ]
  },
  {
   "cell_type": "code",
   "execution_count": null,
   "metadata": {},
   "outputs": [],
   "source": [
    "# Task 10\n",
    "import numpy as np\n",
    "def naive_gauss(A,b):\n",
    "   n,m = np.shape(A)\n",
    "   S = np.zeros((n,n+1))\n",
    "   S[:,0:n] = A\n",
    "   S[:,-1] = b\n",
    "   for j in range(n-1):\n",
    "      for i in range(j+1,n):\n",
    "         mult = S[i,j]/S[j,j]\n",
    "         S[i,j]=0.0\n",
    "         for k in range(j+1,n+1):\n",
    "            S[i,k] = S[i,k]-mult*S[j,k]\n",
    "            \n",
    "   x = S[:,-1]\n",
    "   for i in range(n-1,-1,-1):\n",
    "      for j in range(i+1,n):\n",
    "         x[i] = x[i] - S[i,j]*x[j]\n",
    "      x[i] = x[i]/S[i,i]\n",
    "   return x"
   ]
  },
  {
   "cell_type": "code",
   "execution_count": null,
   "metadata": {},
   "outputs": [],
   "source": [
    "# Task 11\n",
    "import numpy as np\n",
    "\n",
    "def naive_gauss(A,b):\n",
    "   n,m = np.shape(A)\n",
    "   S = np.zeros((n,n+1))\n",
    "   S[:,0:n] = A\n",
    "   S[:,-1] = b\n",
    "   for j in range(n-1):\n",
    "      for i in range(j+1,n):\n",
    "         mult = S[i,j]/S[j,j]\n",
    "         S[i,j]=0.0\n",
    "         for k in range(j+1,n+1):\n",
    "            S[i,k] = S[i,k]-mult*S[j,k]\n",
    "            \n",
    "   x = S[:,-1]\n",
    "   for i in range(n-1,-1,-1):\n",
    "      for j in range(i+1,n):\n",
    "         x[i] = x[i] - S[i,j]*x[j]\n",
    "      x[i] = x[i]/S[i,i]\n",
    "   return x"
   ]
  },
  {
   "cell_type": "code",
   "execution_count": null,
   "metadata": {},
   "outputs": [],
   "source": [
    "# Task 14\n",
    "import numpy as np\n",
    "\n",
    "def LUfactorize(A):\n",
    "   n,m = np.shape(A)\n",
    "   L = np.eye(n)\n",
    "   U = np.zeros((n,n))\n",
    "   U = A.copy()\n",
    "   for j in range(n):\n",
    "      for i in range(j+1,n):\n",
    "         if (abs(U[j,j]) < 4*np.finfo(float).eps):\n",
    "            raise np.linalg.LinAlgError(\"Zero pivot encountered\")\n",
    "            return \n",
    "         mult = U[i,j]/U[j,j]\n",
    "         U[i,j]=0.0\n",
    "         L[i,j] = mult\n",
    "         for k in range(j+1,n):\n",
    "            U[i,k] = U[i,k]-mult*U[j,k]\n",
    "   return L,U\n",
    "   \n",
    "A = np.array([ 1.0,2,-1,0,3,1,2,-1,1 ])\n",
    "A=A.reshape((3,3))\n",
    "try:\n",
    "   L,U = LUfactorize(A)\n",
    "except np.linalg.LinAlgError as e:\n",
    "   print(f\"LinAlgError: {e}\")"
   ]
  },
  {
   "cell_type": "code",
   "execution_count": null,
   "metadata": {},
   "outputs": [],
   "source": [
    "# Task 15\n",
    "import numpy as np\n",
    "\n",
    "def LUfactorize(A):\n",
    "   n,m = np.shape(A)\n",
    "   L = np.eye(n)\n",
    "   U = np.zeros((n,n))\n",
    "   U = A.copy()\n",
    "   for j in range(n):\n",
    "      for i in range(j+1,n):\n",
    "         if (abs(U[j,j]) < 4*np.finfo(float).eps):\n",
    "            raise np.linalg.LinAlgError(\"Zero pivot encountered\")\n",
    "            return \n",
    "         mult = U[i,j]/U[j,j]\n",
    "         U[i,j]=0.0\n",
    "         L[i,j] = mult\n",
    "         for k in range(j+1,n):\n",
    "            U[i,k] = U[i,k]-mult*U[j,k]\n",
    "   return L,U\n",
    "\n",
    "def LUsolve(L,U,b):\n",
    "\n",
    "   c = np.zeros_like(b)\n",
    "   n = len(c) \n",
    "   for i in range(n):\n",
    "      c[i] =b[i]\n",
    "      for j in range(i-1,-1,-1):\n",
    "         c[i] = c[i] - L[i,j]*c[j]\n",
    "   \n",
    "   x = c.copy()\n",
    "   for i in range(n-1,-1,-1):\n",
    "      for j in range(i+1,n):\n",
    "         x[i] = x[i]-U[i,j]*x[j]\n",
    "      x[i] = x[i]/U[i,i]\n",
    "   \n",
    "   return x\n",
    "\n",
    "A = np.array([3.0, 1.0, 2, 6, 3, 4, 3, 1, 5])\n",
    "A=A.reshape((3,3))\n",
    "b = np.array([0, 1.0, 3]).T\n",
    "try:\n",
    "   L,U = LUfactorize(A)\n",
    "   x = LUsolve(L,U,b)\n",
    "except np.linalg.LinAlgError as e:\n",
    "   print(f\"LinAlgError: {e}\")\n",
    "\n"
   ]
  }
 ],
 "metadata": {
  "kernelspec": {
   "display_name": "Python 3.10.7 64-bit (microsoft store)",
   "language": "python",
   "name": "python3"
  },
  "language_info": {
   "codemirror_mode": {
    "name": "ipython",
    "version": 3
   },
   "file_extension": ".py",
   "mimetype": "text/x-python",
   "name": "python",
   "nbconvert_exporter": "python",
   "pygments_lexer": "ipython3",
   "version": "3.10.7"
  },
  "orig_nbformat": 4,
  "vscode": {
   "interpreter": {
    "hash": "3ee98eadd956075824b408ace7d98eaa0a348fd98992af1d538881b6be9381a2"
   }
  }
 },
 "nbformat": 4,
 "nbformat_minor": 2
}
